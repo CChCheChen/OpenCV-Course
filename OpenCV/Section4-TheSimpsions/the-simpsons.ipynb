{
 "cells": [
  {
   "cell_type": "code",
   "execution_count": 1,
   "id": "dda8da0c",
   "metadata": {
    "_cell_guid": "b1076dfc-b9ad-4769-8c92-a6c4dae69d19",
    "_uuid": "8f2839f25d086af736a60e9eeb907d3b93b6e0e5",
    "execution": {
     "iopub.execute_input": "2021-12-06T02:08:08.803308Z",
     "iopub.status.busy": "2021-12-06T02:08:08.801839Z",
     "iopub.status.idle": "2021-12-06T02:08:37.935046Z",
     "shell.execute_reply": "2021-12-06T02:08:37.934091Z",
     "shell.execute_reply.started": "2021-12-06T01:07:47.361787Z"
    },
    "papermill": {
     "duration": 29.15337,
     "end_time": "2021-12-06T02:08:37.935215",
     "exception": false,
     "start_time": "2021-12-06T02:08:08.781845",
     "status": "completed"
    },
    "tags": []
   },
   "outputs": [
    {
     "name": "stdout",
     "output_type": "stream",
     "text": [
      "Collecting caer\r\n",
      "  Downloading caer-2.0.8-py3-none-any.whl (809 kB)\r\n",
      "     |████████████████████████████████| 809 kB 291 kB/s            \r\n",
      "\u001b[?25hCollecting canaro\r\n",
      "  Downloading canaro-1.1.0-py3-none-any.whl (19 kB)\r\n",
      "Requirement already satisfied: typing-extensions in /opt/conda/lib/python3.7/site-packages (from caer) (3.10.0.2)\r\n",
      "Requirement already satisfied: numpy in /opt/conda/lib/python3.7/site-packages (from caer) (1.19.5)\r\n",
      "Collecting mypy\r\n",
      "  Downloading mypy-0.910-cp37-cp37m-manylinux2010_x86_64.whl (21.5 MB)\r\n",
      "     |████████████████████████████████| 21.5 MB 1.6 MB/s             \r\n",
      "\u001b[?25hRequirement already satisfied: opencv-contrib-python in /opt/conda/lib/python3.7/site-packages (from caer) (4.5.4.60)\r\n",
      "Requirement already satisfied: tensorflow in /opt/conda/lib/python3.7/site-packages (from canaro) (2.6.2)\r\n",
      "Collecting typed-ast<1.5.0,>=1.4.0\r\n",
      "  Downloading typed_ast-1.4.3-cp37-cp37m-manylinux1_x86_64.whl (743 kB)\r\n",
      "     |████████████████████████████████| 743 kB 59.7 MB/s            \r\n",
      "\u001b[?25hRequirement already satisfied: toml in /opt/conda/lib/python3.7/site-packages (from mypy->caer) (0.10.2)\r\n",
      "Requirement already satisfied: mypy-extensions<0.5.0,>=0.4.3 in /opt/conda/lib/python3.7/site-packages (from mypy->caer) (0.4.3)\r\n",
      "Requirement already satisfied: flatbuffers~=1.12.0 in /opt/conda/lib/python3.7/site-packages (from tensorflow->canaro) (1.12)\r\n",
      "Collecting wrapt~=1.12.1\r\n",
      "  Downloading wrapt-1.12.1.tar.gz (27 kB)\r\n",
      "  Preparing metadata (setup.py) ... \u001b[?25l-\b \bdone\r\n",
      "\u001b[?25hRequirement already satisfied: grpcio<2.0,>=1.37.0 in /opt/conda/lib/python3.7/site-packages (from tensorflow->canaro) (1.42.0)\r\n",
      "Requirement already satisfied: h5py~=3.1.0 in /opt/conda/lib/python3.7/site-packages (from tensorflow->canaro) (3.1.0)\r\n",
      "Requirement already satisfied: gast==0.4.0 in /opt/conda/lib/python3.7/site-packages (from tensorflow->canaro) (0.4.0)\r\n",
      "Collecting typing-extensions\r\n",
      "  Downloading typing_extensions-3.7.4.3-py3-none-any.whl (22 kB)\r\n",
      "Collecting six~=1.15.0\r\n",
      "  Downloading six-1.15.0-py2.py3-none-any.whl (10 kB)\r\n",
      "Requirement already satisfied: termcolor~=1.1.0 in /opt/conda/lib/python3.7/site-packages (from tensorflow->canaro) (1.1.0)\r\n",
      "Requirement already satisfied: tensorflow-estimator<2.7,>=2.6.0 in /opt/conda/lib/python3.7/site-packages (from tensorflow->canaro) (2.6.0)\r\n",
      "Requirement already satisfied: protobuf>=3.9.2 in /opt/conda/lib/python3.7/site-packages (from tensorflow->canaro) (3.19.1)\r\n",
      "Requirement already satisfied: absl-py~=0.10 in /opt/conda/lib/python3.7/site-packages (from tensorflow->canaro) (0.15.0)\r\n",
      "Requirement already satisfied: wheel~=0.35 in /opt/conda/lib/python3.7/site-packages (from tensorflow->canaro) (0.37.0)\r\n",
      "Requirement already satisfied: astunparse~=1.6.3 in /opt/conda/lib/python3.7/site-packages (from tensorflow->canaro) (1.6.3)\r\n",
      "Requirement already satisfied: clang~=5.0 in /opt/conda/lib/python3.7/site-packages (from tensorflow->canaro) (5.0)\r\n",
      "Requirement already satisfied: google-pasta~=0.2 in /opt/conda/lib/python3.7/site-packages (from tensorflow->canaro) (0.2.0)\r\n",
      "Requirement already satisfied: opt-einsum~=3.3.0 in /opt/conda/lib/python3.7/site-packages (from tensorflow->canaro) (3.3.0)\r\n",
      "Requirement already satisfied: keras<2.7,>=2.6.0 in /opt/conda/lib/python3.7/site-packages (from tensorflow->canaro) (2.6.0)\r\n",
      "Requirement already satisfied: keras-preprocessing~=1.1.2 in /opt/conda/lib/python3.7/site-packages (from tensorflow->canaro) (1.1.2)\r\n",
      "Requirement already satisfied: tensorboard<2.7,>=2.6.0 in /opt/conda/lib/python3.7/site-packages (from tensorflow->canaro) (2.6.0)\r\n",
      "Requirement already satisfied: cached-property in /opt/conda/lib/python3.7/site-packages (from h5py~=3.1.0->tensorflow->canaro) (1.5.2)\r\n",
      "Requirement already satisfied: werkzeug>=0.11.15 in /opt/conda/lib/python3.7/site-packages (from tensorboard<2.7,>=2.6.0->tensorflow->canaro) (2.0.2)\r\n",
      "Requirement already satisfied: setuptools>=41.0.0 in /opt/conda/lib/python3.7/site-packages (from tensorboard<2.7,>=2.6.0->tensorflow->canaro) (59.1.1)\r\n",
      "Requirement already satisfied: tensorboard-data-server<0.7.0,>=0.6.0 in /opt/conda/lib/python3.7/site-packages (from tensorboard<2.7,>=2.6.0->tensorflow->canaro) (0.6.1)\r\n",
      "Requirement already satisfied: requests<3,>=2.21.0 in /opt/conda/lib/python3.7/site-packages (from tensorboard<2.7,>=2.6.0->tensorflow->canaro) (2.25.1)\r\n",
      "Requirement already satisfied: google-auth<2,>=1.6.3 in /opt/conda/lib/python3.7/site-packages (from tensorboard<2.7,>=2.6.0->tensorflow->canaro) (1.35.0)\r\n",
      "Requirement already satisfied: tensorboard-plugin-wit>=1.6.0 in /opt/conda/lib/python3.7/site-packages (from tensorboard<2.7,>=2.6.0->tensorflow->canaro) (1.8.0)\r\n",
      "Requirement already satisfied: google-auth-oauthlib<0.5,>=0.4.1 in /opt/conda/lib/python3.7/site-packages (from tensorboard<2.7,>=2.6.0->tensorflow->canaro) (0.4.6)\r\n",
      "Requirement already satisfied: markdown>=2.6.8 in /opt/conda/lib/python3.7/site-packages (from tensorboard<2.7,>=2.6.0->tensorflow->canaro) (3.3.6)\r\n",
      "Requirement already satisfied: rsa<5,>=3.1.4 in /opt/conda/lib/python3.7/site-packages (from google-auth<2,>=1.6.3->tensorboard<2.7,>=2.6.0->tensorflow->canaro) (4.7.2)\r\n",
      "Requirement already satisfied: pyasn1-modules>=0.2.1 in /opt/conda/lib/python3.7/site-packages (from google-auth<2,>=1.6.3->tensorboard<2.7,>=2.6.0->tensorflow->canaro) (0.2.7)\r\n",
      "Requirement already satisfied: cachetools<5.0,>=2.0.0 in /opt/conda/lib/python3.7/site-packages (from google-auth<2,>=1.6.3->tensorboard<2.7,>=2.6.0->tensorflow->canaro) (4.2.4)\r\n",
      "Requirement already satisfied: requests-oauthlib>=0.7.0 in /opt/conda/lib/python3.7/site-packages (from google-auth-oauthlib<0.5,>=0.4.1->tensorboard<2.7,>=2.6.0->tensorflow->canaro) (1.3.0)\r\n",
      "Requirement already satisfied: importlib-metadata>=4.4 in /opt/conda/lib/python3.7/site-packages (from markdown>=2.6.8->tensorboard<2.7,>=2.6.0->tensorflow->canaro) (4.8.2)\r\n",
      "Requirement already satisfied: certifi>=2017.4.17 in /opt/conda/lib/python3.7/site-packages (from requests<3,>=2.21.0->tensorboard<2.7,>=2.6.0->tensorflow->canaro) (2021.10.8)\r\n",
      "Requirement already satisfied: urllib3<1.27,>=1.21.1 in /opt/conda/lib/python3.7/site-packages (from requests<3,>=2.21.0->tensorboard<2.7,>=2.6.0->tensorflow->canaro) (1.26.7)\r\n",
      "Requirement already satisfied: chardet<5,>=3.0.2 in /opt/conda/lib/python3.7/site-packages (from requests<3,>=2.21.0->tensorboard<2.7,>=2.6.0->tensorflow->canaro) (4.0.0)\r\n",
      "Requirement already satisfied: idna<3,>=2.5 in /opt/conda/lib/python3.7/site-packages (from requests<3,>=2.21.0->tensorboard<2.7,>=2.6.0->tensorflow->canaro) (2.10)\r\n",
      "Requirement already satisfied: zipp>=0.5 in /opt/conda/lib/python3.7/site-packages (from importlib-metadata>=4.4->markdown>=2.6.8->tensorboard<2.7,>=2.6.0->tensorflow->canaro) (3.6.0)\r\n",
      "Requirement already satisfied: pyasn1<0.5.0,>=0.4.6 in /opt/conda/lib/python3.7/site-packages (from pyasn1-modules>=0.2.1->google-auth<2,>=1.6.3->tensorboard<2.7,>=2.6.0->tensorflow->canaro) (0.4.8)\r\n",
      "Requirement already satisfied: oauthlib>=3.0.0 in /opt/conda/lib/python3.7/site-packages (from requests-oauthlib>=0.7.0->google-auth-oauthlib<0.5,>=0.4.1->tensorboard<2.7,>=2.6.0->tensorflow->canaro) (3.1.1)\r\n",
      "Building wheels for collected packages: wrapt\r\n",
      "  Building wheel for wrapt (setup.py) ... \u001b[?25l-\b \b\\\b \b|\b \bdone\r\n",
      "\u001b[?25h  Created wheel for wrapt: filename=wrapt-1.12.1-cp37-cp37m-linux_x86_64.whl size=77059 sha256=216d1a391c1314c5283c82e8f06c47cb4d29e7c83803c6acf9f77efedb9abe0e\r\n",
      "  Stored in directory: /root/.cache/pip/wheels/62/76/4c/aa25851149f3f6d9785f6c869387ad82b3fd37582fa8147ac6\r\n",
      "Successfully built wrapt\r\n",
      "Installing collected packages: typing-extensions, six, typed-ast, wrapt, mypy, caer, canaro\r\n",
      "  Attempting uninstall: typing-extensions\r\n",
      "    Found existing installation: typing-extensions 3.10.0.2\r\n",
      "    Uninstalling typing-extensions-3.10.0.2:\r\n",
      "      Successfully uninstalled typing-extensions-3.10.0.2\r\n",
      "  Attempting uninstall: six\r\n",
      "    Found existing installation: six 1.16.0\r\n",
      "    Uninstalling six-1.16.0:\r\n",
      "      Successfully uninstalled six-1.16.0\r\n",
      "  Attempting uninstall: typed-ast\r\n",
      "    Found existing installation: typed-ast 1.5.0\r\n",
      "    Uninstalling typed-ast-1.5.0:\r\n",
      "      Successfully uninstalled typed-ast-1.5.0\r\n",
      "  Attempting uninstall: wrapt\r\n",
      "    Found existing installation: wrapt 1.13.3\r\n",
      "    Uninstalling wrapt-1.13.3:\r\n",
      "      Successfully uninstalled wrapt-1.13.3\r\n",
      "\u001b[31mERROR: pip's dependency resolver does not currently take into account all the packages that are installed. This behaviour is the source of the following dependency conflicts.\r\n",
      "tensorflow-io 0.21.0 requires tensorflow-io-gcs-filesystem==0.21.0, which is not installed.\r\n",
      "explainable-ai-sdk 1.3.2 requires xai-image-widget, which is not installed.\r\n",
      "dask-cudf 21.10.1 requires cupy-cuda114, which is not installed.\r\n",
      "cudf 21.10.1 requires cupy-cuda110, which is not installed.\r\n",
      "beatrix-jupyterlab 3.1.4 requires google-cloud-bigquery-storage, which is not installed.\r\n",
      "tensorflow-transform 1.4.0 requires absl-py<0.13,>=0.9, but you have absl-py 0.15.0 which is incompatible.\r\n",
      "tensorflow-transform 1.4.0 requires pyarrow<6,>=1, but you have pyarrow 6.0.0 which is incompatible.\r\n",
      "optax 0.1.0 requires typing-extensions~=3.10.0, but you have typing-extensions 3.7.4.3 which is incompatible.\r\n",
      "gcsfs 2021.11.0 requires fsspec==2021.11.0, but you have fsspec 2021.11.1 which is incompatible.\r\n",
      "flake8 4.0.1 requires importlib-metadata<4.3; python_version < \"3.8\", but you have importlib-metadata 4.8.2 which is incompatible.\r\n",
      "dask-cudf 21.10.1 requires dask==2021.09.1, but you have dask 2021.11.2 which is incompatible.\r\n",
      "dask-cudf 21.10.1 requires distributed==2021.09.1, but you have distributed 2021.11.2 which is incompatible.\r\n",
      "bokeh 2.4.2 requires typing-extensions>=3.10.0, but you have typing-extensions 3.7.4.3 which is incompatible.\r\n",
      "black 21.10b0 requires typing-extensions>=3.10.0.0, but you have typing-extensions 3.7.4.3 which is incompatible.\r\n",
      "apache-beam 2.34.0 requires dill<0.3.2,>=0.3.1.1, but you have dill 0.3.4 which is incompatible.\r\n",
      "apache-beam 2.34.0 requires httplib2<0.20.0,>=0.8, but you have httplib2 0.20.2 which is incompatible.\r\n",
      "apache-beam 2.34.0 requires pyarrow<6.0.0,>=0.15.1, but you have pyarrow 6.0.0 which is incompatible.\r\n",
      "aiobotocore 2.0.1 requires botocore<1.22.9,>=1.22.8, but you have botocore 1.23.15 which is incompatible.\u001b[0m\r\n",
      "Successfully installed caer-2.0.8 canaro-1.1.0 mypy-0.910 six-1.15.0 typed-ast-1.4.3 typing-extensions-3.7.4.3 wrapt-1.12.1\r\n",
      "\u001b[33mWARNING: Running pip as the 'root' user can result in broken permissions and conflicting behaviour with the system package manager. It is recommended to use a virtual environment instead: https://pip.pypa.io/warnings/venv\u001b[0m\r\n"
     ]
    }
   ],
   "source": [
    "!pip install caer canaro"
   ]
  },
  {
   "cell_type": "code",
   "execution_count": 2,
   "id": "832befcf",
   "metadata": {
    "execution": {
     "iopub.execute_input": "2021-12-06T02:08:38.022261Z",
     "iopub.status.busy": "2021-12-06T02:08:38.018998Z",
     "iopub.status.idle": "2021-12-06T02:08:47.764698Z",
     "shell.execute_reply": "2021-12-06T02:08:47.764036Z",
     "shell.execute_reply.started": "2021-12-06T01:17:30.684777Z"
    },
    "papermill": {
     "duration": 9.788411,
     "end_time": "2021-12-06T02:08:47.764829",
     "exception": false,
     "start_time": "2021-12-06T02:08:37.976418",
     "status": "completed"
    },
    "tags": []
   },
   "outputs": [
    {
     "name": "stdout",
     "output_type": "stream",
     "text": [
      "Collecting tensorflow-io-gcs-filesystem\r\n",
      "  Downloading tensorflow_io_gcs_filesystem-0.22.0-cp37-cp37m-manylinux_2_12_x86_64.manylinux2010_x86_64.whl (2.1 MB)\r\n",
      "     |████████████████████████████████| 2.1 MB 289 kB/s            \r\n",
      "\u001b[?25hInstalling collected packages: tensorflow-io-gcs-filesystem\r\n",
      "\u001b[31mERROR: pip's dependency resolver does not currently take into account all the packages that are installed. This behaviour is the source of the following dependency conflicts.\r\n",
      "tensorflow-io 0.21.0 requires tensorflow-io-gcs-filesystem==0.21.0, but you have tensorflow-io-gcs-filesystem 0.22.0 which is incompatible.\u001b[0m\r\n",
      "Successfully installed tensorflow-io-gcs-filesystem-0.22.0\r\n",
      "\u001b[33mWARNING: Running pip as the 'root' user can result in broken permissions and conflicting behaviour with the system package manager. It is recommended to use a virtual environment instead: https://pip.pypa.io/warnings/venv\u001b[0m\r\n"
     ]
    }
   ],
   "source": [
    "!pip install tensorflow-io-gcs-filesystem"
   ]
  },
  {
   "cell_type": "code",
   "execution_count": 3,
   "id": "54a68f38",
   "metadata": {
    "execution": {
     "iopub.execute_input": "2021-12-06T02:08:47.856891Z",
     "iopub.status.busy": "2021-12-06T02:08:47.856067Z",
     "iopub.status.idle": "2021-12-06T02:08:52.256904Z",
     "shell.execute_reply": "2021-12-06T02:08:52.256417Z",
     "shell.execute_reply.started": "2021-12-06T01:18:38.703882Z"
    },
    "papermill": {
     "duration": 4.448866,
     "end_time": "2021-12-06T02:08:52.257034",
     "exception": false,
     "start_time": "2021-12-06T02:08:47.808168",
     "status": "completed"
    },
    "tags": []
   },
   "outputs": [],
   "source": [
    "import os\n",
    "import caer\n",
    "import canaro\n",
    "import numpy as np\n",
    "import cv2 as cv\n",
    "import gc"
   ]
  },
  {
   "cell_type": "code",
   "execution_count": 4,
   "id": "8f246a9c",
   "metadata": {
    "execution": {
     "iopub.execute_input": "2021-12-06T02:08:52.350767Z",
     "iopub.status.busy": "2021-12-06T02:08:52.349987Z",
     "iopub.status.idle": "2021-12-06T02:08:52.352459Z",
     "shell.execute_reply": "2021-12-06T02:08:52.351970Z",
     "shell.execute_reply.started": "2021-12-06T01:20:37.745756Z"
    },
    "papermill": {
     "duration": 0.050748,
     "end_time": "2021-12-06T02:08:52.352572",
     "exception": false,
     "start_time": "2021-12-06T02:08:52.301824",
     "status": "completed"
    },
    "tags": []
   },
   "outputs": [],
   "source": [
    "IMG_SIZE = (80,80)\n",
    "channels = 1 #for grascale\n",
    "char_path = r'../input/the-simpsons-characters-dataset/simpsons_dataset'"
   ]
  },
  {
   "cell_type": "code",
   "execution_count": 5,
   "id": "10dd0a24",
   "metadata": {
    "execution": {
     "iopub.execute_input": "2021-12-06T02:08:52.447782Z",
     "iopub.status.busy": "2021-12-06T02:08:52.447258Z",
     "iopub.status.idle": "2021-12-06T02:08:56.715210Z",
     "shell.execute_reply": "2021-12-06T02:08:56.714759Z",
     "shell.execute_reply.started": "2021-12-06T01:32:36.656936Z"
    },
    "papermill": {
     "duration": 4.31535,
     "end_time": "2021-12-06T02:08:56.715378",
     "exception": false,
     "start_time": "2021-12-06T02:08:52.400028",
     "status": "completed"
    },
    "tags": []
   },
   "outputs": [
    {
     "data": {
      "text/plain": [
       "[('homer_simpson', 2246),\n",
       " ('ned_flanders', 1454),\n",
       " ('moe_szyslak', 1452),\n",
       " ('lisa_simpson', 1354),\n",
       " ('bart_simpson', 1342),\n",
       " ('marge_simpson', 1291),\n",
       " ('krusty_the_clown', 1206),\n",
       " ('principal_skinner', 1194),\n",
       " ('charles_montgomery_burns', 1193),\n",
       " ('milhouse_van_houten', 1079),\n",
       " ('chief_wiggum', 986),\n",
       " ('abraham_grampa_simpson', 913),\n",
       " ('sideshow_bob', 877),\n",
       " ('apu_nahasapeemapetilon', 623),\n",
       " ('kent_brockman', 498),\n",
       " ('comic_book_guy', 469),\n",
       " ('edna_krabappel', 457),\n",
       " ('nelson_muntz', 358),\n",
       " ('lenny_leonard', 310),\n",
       " ('mayor_quimby', 246),\n",
       " ('waylon_smithers', 181),\n",
       " ('maggie_simpson', 128),\n",
       " ('groundskeeper_willie', 121),\n",
       " ('barney_gumble', 106),\n",
       " ('selma_bouvier', 103),\n",
       " ('carl_carlson', 98),\n",
       " ('ralph_wiggum', 89),\n",
       " ('patty_bouvier', 72),\n",
       " ('martin_prince', 71),\n",
       " ('professor_john_frink', 65),\n",
       " ('snake_jailbird', 55),\n",
       " ('cletus_spuckler', 47),\n",
       " ('rainier_wolfcastle', 45),\n",
       " ('simpsons_dataset', 42),\n",
       " ('agnes_skinner', 42),\n",
       " ('sideshow_mel', 40),\n",
       " ('otto_mann', 32),\n",
       " ('fat_tony', 27),\n",
       " ('gil', 27),\n",
       " ('miss_hoover', 17),\n",
       " ('disco_stu', 8),\n",
       " ('troy_mcclure', 8),\n",
       " ('lionel_hutz', 3)]"
      ]
     },
     "execution_count": 5,
     "metadata": {},
     "output_type": "execute_result"
    }
   ],
   "source": [
    "# Creating a character dictionary, sorting it in descending order\n",
    "char_dict = {}\n",
    "for char in os.listdir(char_path):\n",
    "    char_dict[char] = len(os.listdir(os.path.join(char_path,char)))\n",
    "\n",
    "# Sort in descending order\n",
    "char_dict = caer.sort_dict(char_dict, descending=True)\n",
    "char_dict"
   ]
  },
  {
   "cell_type": "code",
   "execution_count": 6,
   "id": "fc1f1056",
   "metadata": {
    "execution": {
     "iopub.execute_input": "2021-12-06T02:08:56.813287Z",
     "iopub.status.busy": "2021-12-06T02:08:56.812607Z",
     "iopub.status.idle": "2021-12-06T02:08:56.815292Z",
     "shell.execute_reply": "2021-12-06T02:08:56.815707Z",
     "shell.execute_reply.started": "2021-12-06T01:33:05.626827Z"
    },
    "papermill": {
     "duration": 0.05432,
     "end_time": "2021-12-06T02:08:56.815832",
     "exception": false,
     "start_time": "2021-12-06T02:08:56.761512",
     "status": "completed"
    },
    "tags": []
   },
   "outputs": [
    {
     "data": {
      "text/plain": [
       "['homer_simpson',\n",
       " 'ned_flanders',\n",
       " 'moe_szyslak',\n",
       " 'lisa_simpson',\n",
       " 'bart_simpson',\n",
       " 'marge_simpson',\n",
       " 'krusty_the_clown',\n",
       " 'principal_skinner',\n",
       " 'charles_montgomery_burns',\n",
       " 'milhouse_van_houten']"
      ]
     },
     "execution_count": 6,
     "metadata": {},
     "output_type": "execute_result"
    }
   ],
   "source": [
    "#  Getting the first 10 categories with the most number of images\n",
    "characters = []\n",
    "count = 0\n",
    "for i in char_dict:\n",
    "    characters.append(i[0])\n",
    "    count += 1\n",
    "    if count >= 10:\n",
    "        break\n",
    "characters"
   ]
  },
  {
   "cell_type": "code",
   "execution_count": 7,
   "id": "7da398e4",
   "metadata": {
    "execution": {
     "iopub.execute_input": "2021-12-06T02:08:56.906832Z",
     "iopub.status.busy": "2021-12-06T02:08:56.906090Z",
     "iopub.status.idle": "2021-12-06T02:10:51.076748Z",
     "shell.execute_reply": "2021-12-06T02:10:51.076252Z",
     "shell.execute_reply.started": "2021-12-06T01:33:28.125811Z"
    },
    "papermill": {
     "duration": 114.21796,
     "end_time": "2021-12-06T02:10:51.076880",
     "exception": false,
     "start_time": "2021-12-06T02:08:56.858920",
     "status": "completed"
    },
    "tags": []
   },
   "outputs": [
    {
     "name": "stdout",
     "output_type": "stream",
     "text": [
      "[INFO] Could not find a file to load from. Generating the training data\n",
      "----------------------------------------------\n",
      "[INFO] At 1000 files\n",
      "[INFO] At 2000 files\n",
      "[INFO] 2246 files found in 1.7830417156219482s\n",
      "[INFO] At 1000 files\n",
      "[INFO] 1454 files found in 0.6217772960662842s\n",
      "[INFO] At 1000 files\n",
      "[INFO] 1452 files found in 0.5611538887023926s\n",
      "[INFO] At 1000 files\n",
      "[INFO] 1354 files found in 0.439833402633667s\n",
      "[INFO] At 1000 files\n",
      "[INFO] 1342 files found in 0.3879549503326416s\n",
      "[INFO] At 1000 files\n",
      "[INFO] 1291 files found in 0.2806873321533203s\n",
      "[INFO] At 1000 files\n",
      "[INFO] 1206 files found in 0.1260824203491211s\n",
      "[INFO] At 1000 files\n",
      "[INFO] 1194 files found in 0.11366605758666992s\n",
      "[INFO] At 1000 files\n",
      "[INFO] 1193 files found in 0.10703039169311523s\n",
      "[INFO] At 1000 files\n",
      "[INFO] 1079 files found in 0.004275798797607422s\n",
      "----------------------------------------------\n",
      "[INFO] 13811 files preprocessed! Took 1m 54s\n"
     ]
    }
   ],
   "source": [
    "# Create the training data\n",
    "train = caer.preprocess_from_dir(char_path, characters, channels=channels, IMG_SIZE=IMG_SIZE, isShuffle=True)"
   ]
  },
  {
   "cell_type": "code",
   "execution_count": 8,
   "id": "2f6fd614",
   "metadata": {
    "execution": {
     "iopub.execute_input": "2021-12-06T02:10:51.174152Z",
     "iopub.status.busy": "2021-12-06T02:10:51.173521Z",
     "iopub.status.idle": "2021-12-06T02:10:51.176135Z",
     "shell.execute_reply": "2021-12-06T02:10:51.176570Z",
     "shell.execute_reply.started": "2021-12-06T01:34:20.587215Z"
    },
    "papermill": {
     "duration": 0.053335,
     "end_time": "2021-12-06T02:10:51.176702",
     "exception": false,
     "start_time": "2021-12-06T02:10:51.123367",
     "status": "completed"
    },
    "tags": []
   },
   "outputs": [
    {
     "data": {
      "text/plain": [
       "13811"
      ]
     },
     "execution_count": 8,
     "metadata": {},
     "output_type": "execute_result"
    }
   ],
   "source": [
    "# Number of training samples\n",
    "len(train)"
   ]
  },
  {
   "cell_type": "code",
   "execution_count": 9,
   "id": "e72c2717",
   "metadata": {
    "execution": {
     "iopub.execute_input": "2021-12-06T02:10:51.279073Z",
     "iopub.status.busy": "2021-12-06T02:10:51.278308Z",
     "iopub.status.idle": "2021-12-06T02:10:51.968323Z",
     "shell.execute_reply": "2021-12-06T02:10:51.968739Z",
     "shell.execute_reply.started": "2021-12-06T01:36:11.897720Z"
    },
    "papermill": {
     "duration": 0.745987,
     "end_time": "2021-12-06T02:10:51.968882",
     "exception": false,
     "start_time": "2021-12-06T02:10:51.222895",
     "status": "completed"
    },
    "tags": []
   },
   "outputs": [
    {
     "data": {
      "image/png": "[encoded data removed]",
      "text/plain": [
       "<Figure size 2160x2160 with 1 Axes>"
      ]
     },
     "metadata": {
      "needs_background": "light"
     },
     "output_type": "display_data"
    }
   ],
   "source": [
    "# Visualizing the data (OpenCV doesn't display well in Jupyter notebooks)\n",
    "import matplotlib.pyplot as plt\n",
    "plt.figure(figsize=(30,30))\n",
    "plt.imshow(train[0][0], cmap='gray')\n",
    "plt.show()"
   ]
  },
  {
   "cell_type": "code",
   "execution_count": 10,
   "id": "4142ad6f",
   "metadata": {
    "execution": {
     "iopub.execute_input": "2021-12-06T02:10:52.082893Z",
     "iopub.status.busy": "2021-12-06T02:10:52.082004Z",
     "iopub.status.idle": "2021-12-06T02:10:52.130824Z",
     "shell.execute_reply": "2021-12-06T02:10:52.130299Z",
     "shell.execute_reply.started": "2021-12-06T01:36:41.321370Z"
    },
    "papermill": {
     "duration": 0.114038,
     "end_time": "2021-12-06T02:10:52.130949",
     "exception": false,
     "start_time": "2021-12-06T02:10:52.016911",
     "status": "completed"
    },
    "tags": []
   },
   "outputs": [],
   "source": [
    "# Separating the array and corresponding labels\n",
    "featureSet, labels = caer.sep_train(train, IMG_SIZE=IMG_SIZE)"
   ]
  },
  {
   "cell_type": "code",
   "execution_count": 11,
   "id": "5f735615",
   "metadata": {
    "execution": {
     "iopub.execute_input": "2021-12-06T02:10:52.233566Z",
     "iopub.status.busy": "2021-12-06T02:10:52.232499Z",
     "iopub.status.idle": "2021-12-06T02:10:52.353521Z",
     "shell.execute_reply": "2021-12-06T02:10:52.352972Z",
     "shell.execute_reply.started": "2021-12-06T01:38:43.440968Z"
    },
    "papermill": {
     "duration": 0.174624,
     "end_time": "2021-12-06T02:10:52.353659",
     "exception": false,
     "start_time": "2021-12-06T02:10:52.179035",
     "status": "completed"
    },
    "tags": []
   },
   "outputs": [],
   "source": [
    "from tensorflow.keras.utils import to_categorical\n",
    "\n",
    "# Normalize the featureSet ==> (0,1)\n",
    "featureSet = caer.normalize(featureSet)\n",
    "# Converting numerical labels to binary class vectors\n",
    "labels = to_categorical(labels, len(characters))"
   ]
  },
  {
   "cell_type": "code",
   "execution_count": 12,
   "id": "4398859e",
   "metadata": {
    "execution": {
     "iopub.execute_input": "2021-12-06T02:10:52.455243Z",
     "iopub.status.busy": "2021-12-06T02:10:52.454470Z",
     "iopub.status.idle": "2021-12-06T02:10:53.096197Z",
     "shell.execute_reply": "2021-12-06T02:10:53.095660Z",
     "shell.execute_reply.started": "2021-12-06T01:40:46.925039Z"
    },
    "papermill": {
     "duration": 0.694376,
     "end_time": "2021-12-06T02:10:53.096355",
     "exception": false,
     "start_time": "2021-12-06T02:10:52.401979",
     "status": "completed"
    },
    "tags": []
   },
   "outputs": [],
   "source": [
    "from sklearn.model_selection import train_test_split\n",
    "x_train, x_val, y_train, y_val = train_test_split(featureSet, labels, test_size=.2)"
   ]
  },
  {
   "cell_type": "code",
   "execution_count": 13,
   "id": "9ad05f0a",
   "metadata": {
    "execution": {
     "iopub.execute_input": "2021-12-06T02:10:53.376334Z",
     "iopub.status.busy": "2021-12-06T02:10:53.375570Z",
     "iopub.status.idle": "2021-12-06T02:10:53.378386Z",
     "shell.execute_reply": "2021-12-06T02:10:53.378803Z",
     "shell.execute_reply.started": "2021-12-06T01:41:15.898093Z"
    },
    "papermill": {
     "duration": 0.234193,
     "end_time": "2021-12-06T02:10:53.378950",
     "exception": false,
     "start_time": "2021-12-06T02:10:53.144757",
     "status": "completed"
    },
    "tags": []
   },
   "outputs": [
    {
     "data": {
      "text/plain": [
       "3277"
      ]
     },
     "execution_count": 13,
     "metadata": {},
     "output_type": "execute_result"
    }
   ],
   "source": [
    "del train\n",
    "del featureSet\n",
    "del labels \n",
    "gc.collect()"
   ]
  },
  {
   "cell_type": "code",
   "execution_count": 14,
   "id": "17b0667d",
   "metadata": {
    "execution": {
     "iopub.execute_input": "2021-12-06T02:10:53.481066Z",
     "iopub.status.busy": "2021-12-06T02:10:53.479533Z",
     "iopub.status.idle": "2021-12-06T02:10:53.481718Z",
     "shell.execute_reply": "2021-12-06T02:10:53.482117Z",
     "shell.execute_reply.started": "2021-12-06T01:44:26.251590Z"
    },
    "papermill": {
     "duration": 0.054648,
     "end_time": "2021-12-06T02:10:53.482270",
     "exception": false,
     "start_time": "2021-12-06T02:10:53.427622",
     "status": "completed"
    },
    "tags": []
   },
   "outputs": [],
   "source": [
    "# Useful variables when training\n",
    "BATCH_SIZE = 32\n",
    "EPOCHS = 10"
   ]
  },
  {
   "cell_type": "code",
   "execution_count": 15,
   "id": "80ae0f9d",
   "metadata": {
    "execution": {
     "iopub.execute_input": "2021-12-06T02:10:53.584797Z",
     "iopub.status.busy": "2021-12-06T02:10:53.583280Z",
     "iopub.status.idle": "2021-12-06T02:10:53.585451Z",
     "shell.execute_reply": "2021-12-06T02:10:53.585852Z",
     "shell.execute_reply.started": "2021-12-06T01:44:31.856306Z"
    },
    "papermill": {
     "duration": 0.055836,
     "end_time": "2021-12-06T02:10:53.585976",
     "exception": false,
     "start_time": "2021-12-06T02:10:53.530140",
     "status": "completed"
    },
    "tags": []
   },
   "outputs": [],
   "source": [
    "# Image data generator (introduces randomness in network ==> better accuracy)\n",
    "datagen = canaro.generators.imageDataGenerator()\n",
    "train_gen = datagen.flow(x_train, y_train, batch_size=BATCH_SIZE)"
   ]
  },
  {
   "cell_type": "code",
   "execution_count": 16,
   "id": "38ccbf73",
   "metadata": {
    "execution": {
     "iopub.execute_input": "2021-12-06T02:10:53.686522Z",
     "iopub.status.busy": "2021-12-06T02:10:53.686024Z",
     "iopub.status.idle": "2021-12-06T02:10:56.211969Z",
     "shell.execute_reply": "2021-12-06T02:10:56.212650Z",
     "shell.execute_reply.started": "2021-12-06T01:56:41.446599Z"
    },
    "papermill": {
     "duration": 2.580407,
     "end_time": "2021-12-06T02:10:56.214494",
     "exception": false,
     "start_time": "2021-12-06T02:10:53.634087",
     "status": "completed"
    },
    "tags": []
   },
   "outputs": [
    {
     "name": "stderr",
     "output_type": "stream",
     "text": [
      "/opt/conda/lib/python3.7/site-packages/keras/optimizer_v2/optimizer_v2.py:356: UserWarning: The `lr` argument is deprecated, use `learning_rate` instead.\n",
      "  \"The `lr` argument is deprecated, use `learning_rate` instead.\")\n"
     ]
    }
   ],
   "source": [
    "# Create our model (returns a compiled model)\n",
    "model = canaro.models.createSimpsonsModel(IMG_SIZE=IMG_SIZE, channels=channels, output_dim=len(characters), \n",
    "                                         loss='binary_crossentropy', decay=1e-6, learning_rate=0.001, momentum=0.9,\n",
    "                                         nesterov=True)"
   ]
  },
  {
   "cell_type": "code",
   "execution_count": 17,
   "id": "d8b1e8cf",
   "metadata": {
    "execution": {
     "iopub.execute_input": "2021-12-06T02:10:56.418261Z",
     "iopub.status.busy": "2021-12-06T02:10:56.417136Z",
     "iopub.status.idle": "2021-12-06T02:10:56.421894Z",
     "shell.execute_reply": "2021-12-06T02:10:56.422538Z",
     "shell.execute_reply.started": "2021-12-06T01:56:54.490372Z"
    },
    "papermill": {
     "duration": 0.099463,
     "end_time": "2021-12-06T02:10:56.422717",
     "exception": false,
     "start_time": "2021-12-06T02:10:56.323254",
     "status": "completed"
    },
    "tags": []
   },
   "outputs": [
    {
     "name": "stdout",
     "output_type": "stream",
     "text": [
      "Model: \"sequential_1\"\n",
      "_________________________________________________________________\n",
      "Layer (type)                 Output Shape              Param #   \n",
      "=================================================================\n",
      "conv2d_6 (Conv2D)            (None, 80, 80, 32)        320       \n",
      "_________________________________________________________________\n",
      "conv2d_7 (Conv2D)            (None, 78, 78, 32)        9248      \n",
      "_________________________________________________________________\n",
      "max_pooling2d_3 (MaxPooling2 (None, 39, 39, 32)        0         \n",
      "_________________________________________________________________\n",
      "dropout_4 (Dropout)          (None, 39, 39, 32)        0         \n",
      "_________________________________________________________________\n",
      "conv2d_8 (Conv2D)            (None, 39, 39, 64)        18496     \n",
      "_________________________________________________________________\n",
      "conv2d_9 (Conv2D)            (None, 37, 37, 64)        36928     \n",
      "_________________________________________________________________\n",
      "max_pooling2d_4 (MaxPooling2 (None, 18, 18, 64)        0         \n",
      "_________________________________________________________________\n",
      "dropout_5 (Dropout)          (None, 18, 18, 64)        0         \n",
      "_________________________________________________________________\n",
      "conv2d_10 (Conv2D)           (None, 18, 18, 256)       147712    \n",
      "_________________________________________________________________\n",
      "conv2d_11 (Conv2D)           (None, 16, 16, 256)       590080    \n",
      "_________________________________________________________________\n",
      "max_pooling2d_5 (MaxPooling2 (None, 8, 8, 256)         0         \n",
      "_________________________________________________________________\n",
      "dropout_6 (Dropout)          (None, 8, 8, 256)         0         \n",
      "_________________________________________________________________\n",
      "flatten_1 (Flatten)          (None, 16384)             0         \n",
      "_________________________________________________________________\n",
      "dropout_7 (Dropout)          (None, 16384)             0         \n",
      "_________________________________________________________________\n",
      "dense_1 (Dense)              (None, 1024)              16778240  \n",
      "_________________________________________________________________\n",
      "dense_2 (Dense)              (None, 10)                10250     \n",
      "=================================================================\n",
      "Total params: 17,591,274\n",
      "Trainable params: 17,591,274\n",
      "Non-trainable params: 0\n",
      "_________________________________________________________________\n"
     ]
    }
   ],
   "source": [
    "model.summary()"
   ]
  },
  {
   "cell_type": "code",
   "execution_count": 18,
   "id": "edda8021",
   "metadata": {
    "execution": {
     "iopub.execute_input": "2021-12-06T02:10:56.596092Z",
     "iopub.status.busy": "2021-12-06T02:10:56.592213Z",
     "iopub.status.idle": "2021-12-06T02:12:47.077037Z",
     "shell.execute_reply": "2021-12-06T02:12:47.077491Z",
     "shell.execute_reply.started": "2021-12-06T01:57:49.183437Z"
    },
    "papermill": {
     "duration": 110.573827,
     "end_time": "2021-12-06T02:12:47.077686",
     "exception": false,
     "start_time": "2021-12-06T02:10:56.503859",
     "status": "completed"
    },
    "tags": []
   },
   "outputs": [
    {
     "name": "stdout",
     "output_type": "stream",
     "text": [
      "Epoch 1/10\n",
      "345/345 [==============================] - 17s 29ms/step - loss: 0.3413 - accuracy: 0.1548 - val_loss: 0.3341 - val_accuracy: 0.1647\n",
      "Epoch 2/10\n",
      "345/345 [==============================] - 10s 28ms/step - loss: 0.3238 - accuracy: 0.1586\n",
      "Epoch 3/10\n",
      "345/345 [==============================] - 9s 26ms/step - loss: 0.3235 - accuracy: 0.1615\n",
      "Epoch 4/10\n",
      "345/345 [==============================] - 9s 26ms/step - loss: 0.3229 - accuracy: 0.1623\n",
      "Epoch 5/10\n",
      "345/345 [==============================] - 9s 27ms/step - loss: 0.3199 - accuracy: 0.1688\n",
      "Epoch 6/10\n",
      "345/345 [==============================] - 9s 26ms/step - loss: 0.3094 - accuracy: 0.2172\n",
      "Epoch 7/10\n",
      "345/345 [==============================] - 9s 26ms/step - loss: 0.3052 - accuracy: 0.2326\n",
      "Epoch 8/10\n",
      "345/345 [==============================] - 9s 26ms/step - loss: 0.3018 - accuracy: 0.2538\n",
      "Epoch 9/10\n",
      "345/345 [==============================] - 9s 26ms/step - loss: 0.2994 - accuracy: 0.2665\n",
      "Epoch 10/10\n",
      "345/345 [==============================] - 9s 26ms/step - loss: 0.2964 - accuracy: 0.2823\n"
     ]
    }
   ],
   "source": [
    "# Training the model\n",
    "\n",
    "from tensorflow.keras.callbacks import LearningRateScheduler\n",
    "callbacks_list = [LearningRateScheduler(canaro.lr_schedule)]\n",
    "training = model.fit(train_gen,\n",
    "                    steps_per_epoch=len(x_train)//BATCH_SIZE,\n",
    "                    epochs=EPOCHS,\n",
    "                    validation_data=(x_val,y_val),\n",
    "                    validation_steps=len(y_val)//BATCH_SIZE,\n",
    "                    callbacks = callbacks_list)"
   ]
  },
  {
   "cell_type": "code",
   "execution_count": 19,
   "id": "1d878fe9",
   "metadata": {
    "execution": {
     "iopub.execute_input": "2021-12-06T02:12:47.900785Z",
     "iopub.status.busy": "2021-12-06T02:12:47.900071Z",
     "iopub.status.idle": "2021-12-06T02:12:47.902668Z",
     "shell.execute_reply": "2021-12-06T02:12:47.903070Z",
     "shell.execute_reply.started": "2021-12-06T01:59:58.451526Z"
    },
    "papermill": {
     "duration": 0.416311,
     "end_time": "2021-12-06T02:12:47.903200",
     "exception": false,
     "start_time": "2021-12-06T02:12:47.486889",
     "status": "completed"
    },
    "tags": []
   },
   "outputs": [
    {
     "data": {
      "text/plain": [
       "['homer_simpson',\n",
       " 'ned_flanders',\n",
       " 'moe_szyslak',\n",
       " 'lisa_simpson',\n",
       " 'bart_simpson',\n",
       " 'marge_simpson',\n",
       " 'krusty_the_clown',\n",
       " 'principal_skinner',\n",
       " 'charles_montgomery_burns',\n",
       " 'milhouse_van_houten']"
      ]
     },
     "execution_count": 19,
     "metadata": {},
     "output_type": "execute_result"
    }
   ],
   "source": [
    "characters"
   ]
  },
  {
   "cell_type": "code",
   "execution_count": 20,
   "id": "e3cbef20",
   "metadata": {
    "execution": {
     "iopub.execute_input": "2021-12-06T02:12:48.724142Z",
     "iopub.status.busy": "2021-12-06T02:12:48.723641Z",
     "iopub.status.idle": "2021-12-06T02:12:48.937398Z",
     "shell.execute_reply": "2021-12-06T02:12:48.936816Z",
     "shell.execute_reply.started": "2021-12-06T02:06:25.952950Z"
    },
    "papermill": {
     "duration": 0.628754,
     "end_time": "2021-12-06T02:12:48.937540",
     "exception": false,
     "start_time": "2021-12-06T02:12:48.308786",
     "status": "completed"
    },
    "tags": []
   },
   "outputs": [
    {
     "data": {
      "image/png": "[encoded data removed]",
      "text/plain": [
       "<Figure size 432x288 with 1 Axes>"
      ]
     },
     "metadata": {
      "needs_background": "light"
     },
     "output_type": "display_data"
    }
   ],
   "source": [
    "test_path = r'../input/the-simpsons-characters-dataset/simpsons_dataset/chief_wiggum/pic_0008.jpg'\n",
    "\n",
    "img = cv.imread(test_path)\n",
    "\n",
    "plt.imshow(img)\n",
    "plt.show()"
   ]
  },
  {
   "cell_type": "code",
   "execution_count": 21,
   "id": "6e40f96c",
   "metadata": {
    "execution": {
     "iopub.execute_input": "2021-12-06T02:12:49.773364Z",
     "iopub.status.busy": "2021-12-06T02:12:49.772491Z",
     "iopub.status.idle": "2021-12-06T02:12:49.774541Z",
     "shell.execute_reply": "2021-12-06T02:12:49.774956Z",
     "shell.execute_reply.started": "2021-12-06T02:01:31.736553Z"
    },
    "papermill": {
     "duration": 0.420578,
     "end_time": "2021-12-06T02:12:49.775086",
     "exception": false,
     "start_time": "2021-12-06T02:12:49.354508",
     "status": "completed"
    },
    "tags": []
   },
   "outputs": [],
   "source": [
    "def prepare(image):\n",
    "    image = cv.cvtColor(image, cv.COLOR_BGR2GRAY)\n",
    "    image = cv.resize(image, IMG_SIZE)\n",
    "    image = caer.reshape(image, IMG_SIZE, 1)\n",
    "    return image"
   ]
  },
  {
   "cell_type": "code",
   "execution_count": 22,
   "id": "5af00100",
   "metadata": {
    "execution": {
     "iopub.execute_input": "2021-12-06T02:12:50.610533Z",
     "iopub.status.busy": "2021-12-06T02:12:50.609718Z",
     "iopub.status.idle": "2021-12-06T02:12:50.791597Z",
     "shell.execute_reply": "2021-12-06T02:12:50.792169Z",
     "shell.execute_reply.started": "2021-12-06T02:06:30.240660Z"
    },
    "papermill": {
     "duration": 0.609866,
     "end_time": "2021-12-06T02:12:50.792382",
     "exception": false,
     "start_time": "2021-12-06T02:12:50.182516",
     "status": "completed"
    },
    "tags": []
   },
   "outputs": [
    {
     "name": "stdout",
     "output_type": "stream",
     "text": [
      "moe_szyslak\n"
     ]
    }
   ],
   "source": [
    "predictions = model.predict(prepare(img))\n",
    "# Getting class with the highest probability\n",
    "print(characters[np.argmax(predictions[0])])"
   ]
  }
 ],
 "metadata": {
  "kernelspec": {
   "display_name": "Python 3",
   "language": "python",
   "name": "python3"
  },
  "language_info": {
   "codemirror_mode": {
    "name": "ipython",
    "version": 3
   },
   "file_extension": ".py",
   "mimetype": "text/x-python",
   "name": "python",
   "nbconvert_exporter": "python",
   "pygments_lexer": "ipython3",
   "version": "3.7.12"
  },
  "papermill": {
   "default_parameters": {},
   "duration": 293.579079,
   "end_time": "2021-12-06T02:12:53.921671",
   "environment_variables": {},
   "exception": null,
   "input_path": "__notebook__.ipynb",
   "output_path": "__notebook__.ipynb",
   "parameters": {},
   "start_time": "2021-12-06T02:08:00.342592",
   "version": "2.3.3"
  }
 },
 "nbformat": 4,
 "nbformat_minor": 5
}
